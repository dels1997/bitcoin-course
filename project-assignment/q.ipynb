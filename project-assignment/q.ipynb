{
 "cells": [
  {
   "cell_type": "code",
   "execution_count": 18,
   "metadata": {},
   "outputs": [],
   "source": [
    "from qiskit import QuantumCircuit, Aer, transpile, assemble, execute\n",
    "from math import pi\n",
    "from qiskit.visualization import plot_histogram"
   ]
  },
  {
   "cell_type": "code",
   "execution_count": 19,
   "metadata": {},
   "outputs": [],
   "source": [
    "def gcd(a, b):\n",
    "    if a == 0:\n",
    "        return b\n",
    "     \n",
    "    return gcd(b%a, a)\n",
    "\n",
    "def c_amod15(a, power):\n",
    "    \"\"\"Controlled multiplication by a mod 15\n",
    "    Outputs the quantum gate that corresponds to a controlled multiplication by a^power\"\"\"\n",
    "    if a not in [2,4,7,8,11,13]:\n",
    "        raise ValueError(\"'a' must be 2,4,7,8,11 or 13\")\n",
    "    U = QuantumCircuit(4)        \n",
    "    for iteration in range(power):\n",
    "        if a in [2,13]:\n",
    "            U.swap(2,3)\n",
    "            U.swap(1,2)\n",
    "            U.swap(0,1)\n",
    "        if a in [7,8]:\n",
    "            U.swap(0,1)\n",
    "            U.swap(1,2)\n",
    "            U.swap(2,3)\n",
    "        if a in [4, 11]:\n",
    "            U.swap(1,3)\n",
    "            U.swap(0,2)\n",
    "        if a in [7,11,13]:\n",
    "            for q in range(4):\n",
    "                U.x(q)\n",
    "    U = U.to_gate()\n",
    "    U.name = \"%i^%i mod 15\" % (a, power)\n",
    "    c_U = U.control()\n",
    "    return c_U\n",
    "\n",
    "def swap_registers(circuit, n):\n",
    "    for qubit in range(n//2):\n",
    "        circuit.swap(qubit, n-qubit-1)\n",
    "    return circuit\n",
    "\n",
    "def qft_rotations(circuit, n):\n",
    "    \"\"\"Performs qft on the first n qubits in circuit (without swaps)\"\"\"\n",
    "    if n == 0:\n",
    "        return circuit\n",
    "    n -= 1\n",
    "    circuit.h(n)\n",
    "    for qubit in range(n):\n",
    "        circuit.cp(pi/2**(n-qubit), qubit, n)\n",
    "    # At the end of our function, we call the same function again on\n",
    "    # the next qubits (we reduced n by one earlier in the function)\n",
    "    qft_rotations(circuit, n)\n",
    "\n",
    "def qft(circuit, n):\n",
    "    \"\"\"QFT on the first n qubits in circuit\"\"\"\n",
    "    qft_rotations(circuit, n)\n",
    "    swap_registers(circuit, n)\n",
    "    return circuit"
   ]
  },
  {
   "cell_type": "code",
   "execution_count": 22,
   "metadata": {},
   "outputs": [
    {
     "name": "stdout",
     "output_type": "stream",
     "text": [
      "12 4 12 1\n",
      "8 8 14 4\n",
      "12 4 12 1\n",
      "7 8 1 13\n",
      "7 8 1 13\n",
      "12 4 12 1\n",
      "8 8 14 4\n",
      "8 8 14 4\n",
      "7 8 1 13\n",
      "12 4 12 1\n",
      "8 8 14 4\n"
     ]
    }
   ],
   "source": [
    "n = 4\n",
    "qc = QuantumCircuit(n*3,n*3) # multiply by 3 for the three registers\n",
    "\n",
    "g = 13 # this is our hard-coded example, we wish to find log_13(7)\n",
    "\n",
    "for q in range(n*2):\n",
    "    qc.h(q)\n",
    "\n",
    "reg1 = list(range(0,1*n))\n",
    "reg2 = list(range(n,2*n))\n",
    "reg3 = list(range(n*2,n*3))\n",
    "\n",
    "qc.x(8) # Initialize third register to 1\n",
    "\n",
    "# do f on third register.......\n",
    "for i in range(n):\n",
    "    qc.append(c_amod15(x,2**i), [i]+reg3)\n",
    "    qc.append(c_amod15(g,2**i), [n+i]+reg3)\n",
    "    \n",
    "# Step 3: measure 3rd register\n",
    "qc.measure(reg3,reg3)\n",
    "\n",
    "# Step 4: fourier transform\n",
    "qft(qc,n*2)\n",
    "\n",
    "# Step 5: measure output again\n",
    "reg12 = range(0,n*2)\n",
    "qc.measure(reg12,reg12)\n",
    "\n",
    "qc.draw(fold=-1)\n",
    "\n",
    "aer_sim = Aer.get_backend('aer_simulator')\n",
    "t_qc = transpile(qc, aer_sim)\n",
    "qobj = assemble(t_qc)\n",
    "results = aer_sim.run(qobj).result()\n",
    "counts = results.get_counts()\n",
    "plot_histogram(counts)\n",
    "\n",
    "for output in counts:\n",
    "  if counts[output] > 20: # only take prominent outputs (Quantum error)\n",
    "    val = int(output, 2)\n",
    "    xx = (val>>4)&0xF # first register\n",
    "    yy = val&0xF # second register\n",
    "    if not(xx == 0 or yy == 0):\n",
    "      if(gcd(yy, 15) != 1): continue\n",
    "      mm = pow(yy,-1,15) # inverse of second register\n",
    "      ll = (-mm*xx)%15 # the calculation of the discrete log\n",
    "      print(xx,yy,ll,pow(13, ll, 15)) # print first two registers, the log\n",
    "      # calculation, and a check to see if g^ll = x"
   ]
  },
  {
   "cell_type": "code",
   "execution_count": null,
   "metadata": {},
   "outputs": [],
   "source": []
  }
 ],
 "metadata": {
  "kernelspec": {
   "display_name": "Python 3",
   "language": "python",
   "name": "python3"
  },
  "language_info": {
   "codemirror_mode": {
    "name": "ipython",
    "version": 3
   },
   "file_extension": ".py",
   "mimetype": "text/x-python",
   "name": "python",
   "nbconvert_exporter": "python",
   "pygments_lexer": "ipython3",
   "version": "3.11.1"
  },
  "orig_nbformat": 4,
  "vscode": {
   "interpreter": {
    "hash": "95e84926ed7a6cef4cca99ac90253a75407e673abecd64a9176ee7d69101f241"
   }
  }
 },
 "nbformat": 4,
 "nbformat_minor": 2
}
